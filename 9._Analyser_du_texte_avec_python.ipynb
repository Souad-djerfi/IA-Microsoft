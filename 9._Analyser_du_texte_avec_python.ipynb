{
 "metadata": {
  "language_info": {
   "codemirror_mode": {
    "name": "ipython",
    "version": 3
   },
   "file_extension": ".py",
   "mimetype": "text/x-python",
   "name": "python",
   "nbconvert_exporter": "python",
   "pygments_lexer": "ipython3",
   "version": "3.8.5"
  },
  "orig_nbformat": 2,
  "kernelspec": {
   "name": "python385jvsc74a57bd0c5e56fbcdc31a633ac0299573016abf27dbdfacef16b1340a435c1336c93ab79",
   "display_name": "Python 3.8.5 32-bit"
  },
  "metadata": {
   "interpreter": {
    "hash": "c5e56fbcdc31a633ac0299573016abf27dbdfacef16b1340a435c1336c93ab79"
   }
  }
 },
 "nbformat": 4,
 "nbformat_minor": 2,
 "cells": [
  {
   "source": [
    "1. Ecrire une fonction hascap(s) qui renvoie tout les mots de la chaîne\n",
    "s commençant par une majuscule."
   ],
   "cell_type": "markdown",
   "metadata": {}
  },
  {
   "cell_type": "code",
   "execution_count": 1,
   "metadata": {},
   "outputs": [],
   "source": [
    "def hascap(s):\n",
    "    motMaj=[]\n",
    "    for mot in s.split():\n",
    "        if 65<=ord(mot[0])<=90:\n",
    "           motMaj.append(mot)\n",
    "    return motMaj"
   ]
  },
  {
   "cell_type": "code",
   "execution_count": 2,
   "metadata": {},
   "outputs": [
    {
     "output_type": "execute_result",
     "data": {
      "text/plain": [
       "['Bonjour', 'Souad', 'DJERFI']"
      ]
     },
     "metadata": {},
     "execution_count": 2
    }
   ],
   "source": [
    "chaine=\"Bonjour je m'appelle Souad DJERFI\"\n",
    "hascap(chaine)"
   ]
  },
  {
   "source": [
    "2. Proposer une fonction inflation(s) qui va doubler la valeur de tout\n",
    "les nombre dans la chaine s. Exemple : « Le prix est de 27 euros »\n",
    "devient « Le prix est de 54 euros ».\n"
   ],
   "cell_type": "markdown",
   "metadata": {}
  },
  {
   "cell_type": "code",
   "execution_count": 31,
   "metadata": {},
   "outputs": [],
   "source": [
    "def inflation(s):\n",
    "    for mot in s.split():\n",
    "        if mot.isnumeric():\n",
    "            s=s.replace(mot,str(float(mot)*2))\n",
    "    return s        "
   ]
  },
  {
   "cell_type": "code",
   "execution_count": 32,
   "metadata": {},
   "outputs": [
    {
     "output_type": "stream",
     "name": "stdout",
     "text": [
      "Le prix est de 54.0 euros\n"
     ]
    }
   ],
   "source": [
    "s=\"Le prix est de 27 euros\"\n",
    "s1=inflation(s)\n",
    "print(s1)"
   ]
  },
  {
   "source": [
    "3. Proposer une fonction lignes qui à partir d’une long chaîne s (>100\n",
    "caractères) renvoie une liste de chaîne de caractères contenant\n",
    "chacun 24 caractères maximum et terminant par un espace."
   ],
   "cell_type": "markdown",
   "metadata": {}
  },
  {
   "cell_type": "code",
   "execution_count": 119,
   "metadata": {},
   "outputs": [],
   "source": [
    "def ligne(s):\n",
    "    miniList=''\n",
    "    liste=[]\n",
    "    for mot in s.split():  \n",
    "        if len(miniList)+len(mot)<=24:\n",
    "            miniList+=mot+' '\n",
    "        else:\n",
    "            liste.append(miniList+' ')\n",
    "            miniList= mot+' '\n",
    "    liste.append(miniList)       \n",
    "    return liste        \n"
   ]
  },
  {
   "cell_type": "code",
   "execution_count": 134,
   "metadata": {},
   "outputs": [
    {
     "output_type": "stream",
     "name": "stdout",
     "text": [
      "Onze ans déjà que cela passe vite Vous vous étiez servis simplement de vos armes la mort n‘éblouit pas les yeux des partisans Vous aviez vos portraits sur les murs de nos villes \n"
     ]
    }
   ],
   "source": [
    "s = \"Onze ans déjà que cela passe vite Vous \"\n",
    "s += \"vous étiez servis simplement de vos armes la \"\n",
    "s += \"mort n‘éblouit pas les yeux des partisans Vous \"\n",
    "s += \"aviez vos portraits sur les murs de nos villes \"\n",
    "#print(len(s.split()))\n",
    "print(s)\n"
   ]
  },
  {
   "cell_type": "code",
   "execution_count": 135,
   "metadata": {},
   "outputs": [
    {
     "output_type": "execute_result",
     "data": {
      "text/plain": [
       "['Onze ans déjà que cela  ',\n",
       " 'passe vite Vous vous  ',\n",
       " 'étiez servis simplement  ',\n",
       " 'de vos armes la mort  ',\n",
       " 'n‘éblouit pas les yeux  ',\n",
       " 'des partisans Vous aviez  ',\n",
       " 'vos portraits sur les  ',\n",
       " 'murs de nos villes ']"
      ]
     },
     "metadata": {},
     "execution_count": 135
    }
   ],
   "source": [
    "\n",
    "ligne(s)"
   ]
  },
  {
   "source": [
    "4.Proposer un programme qui renvoie la liste de tout les nombres (y\n",
    "compris décimaux et négatifs) d’une chaîne de caractères.\n",
    "A tester sur la chaîne : « Les 2 maquereaux valent 6.50 euros ».\n"
   ],
   "cell_type": "markdown",
   "metadata": {}
  },
  {
   "cell_type": "code",
   "execution_count": 99,
   "metadata": {},
   "outputs": [],
   "source": [
    "from re import findall\n",
    "def nombre(s):\n",
    "    return findall('[+-]?[0-9]+\\.?[0-9]*',s)"
   ]
  },
  {
   "cell_type": "code",
   "execution_count": 100,
   "metadata": {},
   "outputs": [
    {
     "output_type": "execute_result",
     "data": {
      "text/plain": [
       "['2', '6.50', '-5.333']"
      ]
     },
     "metadata": {},
     "execution_count": 100
    }
   ],
   "source": [
    "chai=\"Les 2 maquereaux valent 6.50 euros -5.333\"\n",
    "nombre(chai)"
   ]
  },
  {
   "cell_type": "code",
   "execution_count": 101,
   "metadata": {},
   "outputs": [],
   "source": [
    "mot='20.22'\n",
    "if mot.isnumeric():\n",
    "    print(\"Yep\")"
   ]
  },
  {
   "source": [
    "5. Proposer une fonction arrondi(s) qui dans la chaîne s troncature\n",
    "tout les nombre décimaux. On autorise les nombres négatifs.\n"
   ],
   "cell_type": "markdown",
   "metadata": {}
  },
  {
   "cell_type": "code",
   "execution_count": 146,
   "metadata": {},
   "outputs": [
    {
     "output_type": "stream",
     "name": "stdout",
     "text": [
      "L'evolution sur -3 jours est de 7 points\n"
     ]
    }
   ],
   "source": [
    "from re import sub\n",
    "def arrondi(s):\n",
    "    return sub('([+-]?)([0-9]+)([,.]?[0-9]*)', r\"\\1\\2\", s)\n",
    "s = \"L'evolution sur -3,5 jours est de 7.23 points\"\n",
    "print(arrondi(s))"
   ]
  },
  {
   "cell_type": "code",
   "execution_count": null,
   "metadata": {},
   "outputs": [],
   "source": []
  }
 ]
}