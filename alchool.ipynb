{
 "metadata": {
  "language_info": {
   "codemirror_mode": {
    "name": "ipython",
    "version": 3
   },
   "file_extension": ".py",
   "mimetype": "text/x-python",
   "name": "python",
   "nbconvert_exporter": "python",
   "pygments_lexer": "ipython3",
   "version": "3.8.5"
  },
  "orig_nbformat": 2,
  "kernelspec": {
   "name": "python385jvsc74a57bd0c5e56fbcdc31a633ac0299573016abf27dbdfacef16b1340a435c1336c93ab79",
   "display_name": "Python 3.8.5 32-bit"
  },
  "metadata": {
   "interpreter": {
    "hash": "c5e56fbcdc31a633ac0299573016abf27dbdfacef16b1340a435c1336c93ab79"
   }
  }
 },
 "nbformat": 4,
 "nbformat_minor": 2,
 "cells": [
  {
   "cell_type": "code",
   "execution_count": 5,
   "metadata": {},
   "outputs": [
    {
     "output_type": "stream",
     "name": "stdout",
     "text": [
      "[['1986' 'Western Pacific' 'Viet Nam' 'Wine' '0']\n ['1986' 'Americas' 'Uruguay' 'Other' '0.5']\n ['1985' 'Africa' \"Cte d'Ivoire\" 'Wine' '1.62']\n ...\n ['1986' 'Europe' 'Switzerland' 'Spirits' '2.54']\n ['1987' 'Western Pacific' 'Papua New Guinea' 'Other' '0']\n ['1986' 'Africa' 'Swaziland' 'Other' '5.15']]\n"
     ]
    }
   ],
   "source": [
    "#lecture du fichier alchool.csv\n",
    "import numpy as np\n",
    "world_alchool = np.genfromtxt(\"world_alcohol.csv\",delimiter=\",\", dtype=\"U75\", skip_header=1)\n",
    "print(world_alchool)"
   ]
  },
  {
   "cell_type": "code",
   "execution_count": 11,
   "metadata": {},
   "outputs": [
    {
     "output_type": "stream",
     "name": "stdout",
     "text": [
      "[['1984' 'Americas' 'Canada' 'Spirits' '3.35']\n ['1989' 'Americas' 'Canada' 'Wine' '1.27']\n ['1984' 'Americas' 'Canada' 'Beer' '5']\n ['1985' 'Americas' 'Canada' 'Beer' '4.94']\n ['1987' 'Americas' 'Canada' 'Wine' '1.3']\n ['1987' 'Americas' 'Canada' 'Beer' '4.83']\n ['1986' 'Americas' 'Canada' 'Other' '']\n ['1986' 'Americas' 'Canada' 'Spirits' '3.11']\n ['1985' 'Americas' 'Canada' 'Spirits' '3.21']\n ['1985' 'Americas' 'Canada' 'Other' '']\n ['1986' 'Americas' 'Canada' 'Beer' '4.87']\n ['1984' 'Americas' 'Canada' 'Wine' '1.24']\n ['1989' 'Americas' 'Canada' 'Spirits' '2.91']\n ['1984' 'Americas' 'Canada' 'Other' '']\n ['1985' 'Americas' 'Canada' 'Wine' '1.29']\n ['1987' 'Americas' 'Canada' 'Spirits' '2.99']\n ['1989' 'Americas' 'Canada' 'Beer' '4.82']\n ['1989' 'Americas' 'Canada' 'Other' '']\n ['1986' 'Americas' 'Canada' 'Wine' '1.33']\n ['1987' 'Americas' 'Canada' 'Other' '']]\n(20, 5)\n"
     ]
    }
   ],
   "source": [
    "#filtrer la consommation de Canada\n",
    "canada_alchool=world_alchool[world_alchool[:,2]=='Canada']\n",
    "print(canada_alchool)\n",
    "print(canada_alchool.shape)"
   ]
  },
  {
   "cell_type": "code",
   "execution_count": 12,
   "metadata": {},
   "outputs": [
    {
     "output_type": "stream",
     "name": "stdout",
     "text": [
      "[['1984' 'Africa' 'Algeria' 'Spirits' '0.01']\n ['1987' 'Africa' 'Algeria' 'Beer' '0.17']\n ['1987' 'Africa' 'Algeria' 'Spirits' '0.01']\n ['1986' 'Africa' 'Algeria' 'Wine' '0.1']\n ['1984' 'Africa' 'Algeria' 'Other' '0']\n ['1989' 'Africa' 'Algeria' 'Beer' '0.16']\n ['1989' 'Africa' 'Algeria' 'Spirits' '0.01']\n ['1989' 'Africa' 'Algeria' 'Wine' '0.23']\n ['1986' 'Africa' 'Algeria' 'Spirits' '0.01']\n ['1984' 'Africa' 'Algeria' 'Wine' '0.12']\n ['1985' 'Africa' 'Algeria' 'Beer' '0.19']\n ['1985' 'Africa' 'Algeria' 'Other' '0']\n ['1986' 'Africa' 'Algeria' 'Beer' '0.18']\n ['1985' 'Africa' 'Algeria' 'Wine' '0.11']\n ['1986' 'Africa' 'Algeria' 'Other' '0']\n ['1989' 'Africa' 'Algeria' 'Other' '0']\n ['1987' 'Africa' 'Algeria' 'Other' '0']\n ['1984' 'Africa' 'Algeria' 'Beer' '0.2']\n ['1985' 'Africa' 'Algeria' 'Spirits' '0.01']\n ['1987' 'Africa' 'Algeria' 'Wine' '0.1']]\n"
     ]
    }
   ],
   "source": [
    "# Consommation Algérie\n",
    "algeria_alchool=world_alchool[world_alchool[:,2]=='Algeria']\n",
    "print(algeria_alchool)"
   ]
  },
  {
   "cell_type": "code",
   "execution_count": 14,
   "metadata": {},
   "outputs": [
    {
     "output_type": "stream",
     "name": "stdout",
     "text": [
      "[['1984' 'Africa' 'Nigeria' 'Other' '6.1']\n ['1984' 'Eastern Mediterranean' 'Afghanistan' 'Other' '0']\n ['1984' 'Americas' 'Costa Rica' 'Wine' '0.06']\n ...\n ['1984' 'Europe' 'Latvia' 'Spirits' '7.5']\n ['1984' 'Africa' 'Angola' 'Wine' '0.57']\n ['1984' 'Africa' 'Central African Republic' 'Wine' '0.46']] (646, 5)\n"
     ]
    }
   ],
   "source": [
    "#Consommation dans les années 1984\n",
    "world1984=world_alchool[world_alchool[:,0]=='1984']\n",
    "print(world1984,world1984.shape)"
   ]
  },
  {
   "cell_type": "code",
   "execution_count": 13,
   "metadata": {},
   "outputs": [
    {
     "output_type": "stream",
     "name": "stdout",
     "text": [
      "[['1984' 'Africa' 'Algeria' 'Spirits' '0.01']\n ['1984' 'Africa' 'Algeria' 'Other' '0']\n ['1984' 'Africa' 'Algeria' 'Wine' '0.12']\n ['1984' 'Africa' 'Algeria' 'Beer' '0.2']]\n"
     ]
    }
   ],
   "source": [
    "#consommation dans les années 1984\n",
    "algeria1984=algeria_alchool[algeria_alchool[:,0]=='1984']\n",
    "print(algeria1984)"
   ]
  },
  {
   "cell_type": "code",
   "execution_count": 15,
   "metadata": {},
   "outputs": [
    {
     "output_type": "execute_result",
     "data": {
      "text/plain": [
       "array([['1986', 'Africa', 'Algeria', 'Wine', '0.1'],\n",
       "       ['1986', 'Africa', 'Algeria', 'Spirits', '0.01'],\n",
       "       ['1986', 'Africa', 'Algeria', 'Beer', '0.18'],\n",
       "       ['1986', 'Africa', 'Algeria', 'Other', '0']], dtype='<U75')"
      ]
     },
     "metadata": {},
     "execution_count": 15
    }
   ],
   "source": [
    "#comparaison avec plusieurs conditions\n",
    "#Algérie en 1986\n",
    "algeria1986=world_alchool[(world_alchool[:,2]=='Algeria')&(world_alchool[:,0]=='1986')]\n",
    "algeria1986"
   ]
  },
  {
   "cell_type": "code",
   "execution_count": 19,
   "metadata": {},
   "outputs": [
    {
     "output_type": "execute_result",
     "data": {
      "text/plain": [
       "array([['1984', 'Americas', 'Canada', 'Spirits', '3.35'],\n",
       "       ['1984', 'Africa', 'Algeria', 'Spirits', '0.01'],\n",
       "       ['1987', 'Africa', 'Algeria', 'Beer', '0.17'],\n",
       "       ['1987', 'Africa', 'Algeria', 'Spirits', '0.01'],\n",
       "       ['1986', 'Africa', 'Algeria', 'Wine', '0.1'],\n",
       "       ['1989', 'Americas', 'Canada', 'Wine', '1.27'],\n",
       "       ['1984', 'Americas', 'Canada', 'Beer', '5'],\n",
       "       ['1985', 'Americas', 'Canada', 'Beer', '4.94'],\n",
       "       ['1987', 'Americas', 'Canada', 'Wine', '1.3'],\n",
       "       ['1984', 'Africa', 'Algeria', 'Other', '0'],\n",
       "       ['1989', 'Africa', 'Algeria', 'Beer', '0.16'],\n",
       "       ['1989', 'Africa', 'Algeria', 'Spirits', '0.01'],\n",
       "       ['1989', 'Africa', 'Algeria', 'Wine', '0.23'],\n",
       "       ['1987', 'Americas', 'Canada', 'Beer', '4.83'],\n",
       "       ['1986', 'Africa', 'Algeria', 'Spirits', '0.01'],\n",
       "       ['1984', 'Africa', 'Algeria', 'Wine', '0.12'],\n",
       "       ['1986', 'Americas', 'Canada', 'Other', ''],\n",
       "       ['1985', 'Africa', 'Algeria', 'Beer', '0.19'],\n",
       "       ['1986', 'Americas', 'Canada', 'Spirits', '3.11'],\n",
       "       ['1985', 'Africa', 'Algeria', 'Other', '0'],\n",
       "       ['1985', 'Americas', 'Canada', 'Spirits', '3.21'],\n",
       "       ['1985', 'Americas', 'Canada', 'Other', ''],\n",
       "       ['1986', 'Americas', 'Canada', 'Beer', '4.87'],\n",
       "       ['1986', 'Africa', 'Algeria', 'Beer', '0.18'],\n",
       "       ['1985', 'Africa', 'Algeria', 'Wine', '0.11'],\n",
       "       ['1984', 'Americas', 'Canada', 'Wine', '1.24'],\n",
       "       ['1986', 'Africa', 'Algeria', 'Other', '0'],\n",
       "       ['1989', 'Africa', 'Algeria', 'Other', '0'],\n",
       "       ['1987', 'Africa', 'Algeria', 'Other', '0'],\n",
       "       ['1989', 'Americas', 'Canada', 'Spirits', '2.91'],\n",
       "       ['1984', 'Africa', 'Algeria', 'Beer', '0.2'],\n",
       "       ['1985', 'Africa', 'Algeria', 'Spirits', '0.01'],\n",
       "       ['1987', 'Africa', 'Algeria', 'Wine', '0.1'],\n",
       "       ['1984', 'Americas', 'Canada', 'Other', ''],\n",
       "       ['1985', 'Americas', 'Canada', 'Wine', '1.29'],\n",
       "       ['1987', 'Americas', 'Canada', 'Spirits', '2.99'],\n",
       "       ['1989', 'Americas', 'Canada', 'Beer', '4.82'],\n",
       "       ['1989', 'Americas', 'Canada', 'Other', ''],\n",
       "       ['1986', 'Americas', 'Canada', 'Wine', '1.33'],\n",
       "       ['1987', 'Americas', 'Canada', 'Other', '']], dtype='<U75')"
      ]
     },
     "metadata": {},
     "execution_count": 19
    }
   ],
   "source": [
    "#Algérie ou Canada\n",
    "algeriaCanada=world_alchool[(world_alchool[:,2]=='Algeria') | (world_alchool[:,2]=='Canada')]\n",
    "algeriaCanada"
   ]
  },
  {
   "cell_type": "code",
   "execution_count": 40,
   "metadata": {},
   "outputs": [
    {
     "output_type": "execute_result",
     "data": {
      "text/plain": [
       "array([['2018', 'Western Pacific', 'Viet Nam', 'Wine', '0'],\n",
       "       ['2018', 'Americas', 'Uruguay', 'Other', '0.5'],\n",
       "       ['1985', 'Africa', \"Cte d'Ivoire\", 'Wine', '1.62'],\n",
       "       ...,\n",
       "       ['2018', 'Europe', 'Switzerland', 'Spirits', '2.54'],\n",
       "       ['1987', 'Western Pacific', 'Papua New Guinea', 'Other', '0'],\n",
       "       ['2018', 'Africa', 'Swaziland', 'Other', '5.15']], dtype='<U75')"
      ]
     },
     "metadata": {},
     "execution_count": 40
    }
   ],
   "source": [
    "#Remplacement des valeurs\n",
    "#toutes les années 1986 par 2018\n",
    "world_alchool2=world_alchool.copy()\n",
    "world_alchool2[:,0][world_alchool2[:,0]=='1986']='2018'\n",
    "#np.where(world_alchool2[:,0]=='1986',0,'2018')\n",
    "world_alchool2"
   ]
  },
  {
   "cell_type": "code",
   "execution_count": 41,
   "metadata": {},
   "outputs": [
    {
     "output_type": "execute_result",
     "data": {
      "text/plain": [
       "array([['2018', 'Western Pacific', 'Viet Nam', 'Beer', '0'],\n",
       "       ['2018', 'Americas', 'Uruguay', 'Other', '0.5'],\n",
       "       ['1985', 'Africa', \"Cte d'Ivoire\", 'Beer', '1.62'],\n",
       "       ...,\n",
       "       ['2018', 'Europe', 'Switzerland', 'Spirits', '2.54'],\n",
       "       ['1987', 'Western Pacific', 'Papua New Guinea', 'Other', '0'],\n",
       "       ['2018', 'Africa', 'Swaziland', 'Other', '5.15']], dtype='<U75')"
      ]
     },
     "metadata": {},
     "execution_count": 41
    }
   ],
   "source": [
    "#Remlpacer Wine pas Beer\n",
    "world_alchool2[:,3][world_alchool[:,3]=='Wine']='Beer'\n",
    "world_alchool2"
   ]
  },
  {
   "cell_type": "code",
   "execution_count": 43,
   "metadata": {},
   "outputs": [
    {
     "output_type": "execute_result",
     "data": {
      "text/plain": [
       "array([['2018', 'Western Pacific', 'Viet Nam', 'Beer', '0'],\n",
       "       ['2018', 'Americas', 'Uruguay', 'Other', '0.5'],\n",
       "       ['1985', 'Africa', \"Cte d'Ivoire\", 'Beer', '1.62'],\n",
       "       ...,\n",
       "       ['2018', 'Europe', 'Switzerland', 'Spirits', '2.54'],\n",
       "       ['1987', 'Western Pacific', 'Papua New Guinea', 'Other', '0'],\n",
       "       ['2018', 'Africa', 'Swaziland', 'Other', '5.15']], dtype='<U75')"
      ]
     },
     "metadata": {},
     "execution_count": 43
    }
   ],
   "source": [
    "#Remplacer les vides par 0\n",
    "world_alchool2[:,4][world_alchool2[:,4]=='']='0'\n",
    "world_alchool2"
   ]
  },
  {
   "cell_type": "code",
   "execution_count": 46,
   "metadata": {},
   "outputs": [],
   "source": [
    "#Convertir type de données\n",
    "# convertir la 5ème colonne en float\n",
    "alchool_cons=world_alchool2[:,4].astype(float)"
   ]
  },
  {
   "cell_type": "code",
   "execution_count": 49,
   "metadata": {},
   "outputs": [
    {
     "output_type": "stream",
     "name": "stdout",
     "text": [
      "Somme Consommation: 3908.96 Moyenne consommation: 1.2001719373656738\n"
     ]
    }
   ],
   "source": [
    "#calcul somme de consomation alchool et la moyenne\n",
    "total_alchool=np.sum(alchool_cons)\n",
    "moyenne_alchool=np.mean(alchool_cons)\n",
    "print(\"Somme Consommation:\",total_alchool,\"Moyenne consommation:\",moyenne_alchool)"
   ]
  },
  {
   "cell_type": "code",
   "execution_count": 64,
   "metadata": {},
   "outputs": [
    {
     "output_type": "stream",
     "name": "stdout",
     "text": [
      "Somme consommation Canada en 1987 9.12 Moyenne consommation: 2.28\n"
     ]
    }
   ],
   "source": [
    "#Somme et moyenne de Consomation de Canada en 1987\n",
    "canada1987=world_alchool2[(world_alchool2[:,2]=='Canada') & (world_alchool2[:,0]=='1987')]\n",
    "canada1987[:,4]\n",
    "print(\"Somme consommation Canada en 1987\",round(np.sum(canada1987[:,4].astype(float)),2), \"Moyenne consommation:\", round(np.mean(canada1987[:,4].astype(float)),2))"
   ]
  },
  {
   "cell_type": "code",
   "execution_count": 71,
   "metadata": {},
   "outputs": [
    {
     "output_type": "stream",
     "name": "stdout",
     "text": [
      "Somme consommation de Beer en Amérique 310.02 Moyenne consommation: 2.0\n"
     ]
    }
   ],
   "source": [
    "# Somme et moyenne de la consommation de Beer en Amérique \n",
    "america_beer=world_alchool2[(world_alchool[:,1]=='Americas')&(world_alchool[:,3]==\"Beer\")]\n",
    "print(\"Somme consommation de Beer en Amérique\",round(np.sum(america_beer[:,4].astype(float)),2), \"Moyenne consommation:\", round(np.mean(america_beer[:,4].astype(float)),2))"
   ]
  },
  {
   "cell_type": "code",
   "execution_count": 76,
   "metadata": {},
   "outputs": [],
   "source": [
    "#Calculer la consommation totale annuelle par habitant pour un pays donné\n",
    "def somTotal(worldAlchool,pays, année):\n",
    "    paysAnnée=worldAlchool[(worldAlchool[:,2]==pays)&(worldAlchool[:,0]==année)]\n",
    "    paysAnnée[:,4][paysAnnée[:,4]=='']='0'\n",
    "    \n",
    "    return np.sum(paysAnnée[:,4].astype(float))       "
   ]
  },
  {
   "cell_type": "code",
   "execution_count": 77,
   "metadata": {},
   "outputs": [
    {
     "output_type": "execute_result",
     "data": {
      "text/plain": [
       "9.31"
      ]
     },
     "metadata": {},
     "execution_count": 77
    }
   ],
   "source": [
    "somTotal(world_alchool,'Canada','1986')"
   ]
  },
  {
   "cell_type": "code",
   "execution_count": 88,
   "metadata": {},
   "outputs": [],
   "source": [
    "#Calculer la consommation pour chaque pays \n",
    "def consoWorld(worldalchool,année):\n",
    "    conso={}\n",
    "    worldAlchoolAnnée=worldalchool[worldalchool[:,0]==année]\n",
    "    worldalchool[:,4][worldalchool[:,4]=='']='0'\n",
    "    for i in worldAlchoolAnnée:\n",
    "        if not i[2] in conso:\n",
    "            conso[i[2]]=round(float(i[4]),2)\n",
    "        else:\n",
    "            conso[i[2]]+=round(float(i[4]),2)\n",
    "    return conso        "
   ]
  },
  {
   "cell_type": "code",
   "execution_count": 90,
   "metadata": {},
   "outputs": [
    {
     "output_type": "execute_result",
     "data": {
      "text/plain": [
       "{'Guatemala': 2.47,\n",
       " 'Seychelles': 3.3000000000000003,\n",
       " 'Costa Rica': 5.3999999999999995,\n",
       " 'Mauritius': 3.54,\n",
       " 'Zimbabwe': 4.92,\n",
       " 'Suriname': 3.67,\n",
       " 'Croatia': 10.92,\n",
       " 'Syrian Arab Republic': 0.54,\n",
       " 'Bolivia (Plurinational State of)': 3.05,\n",
       " 'Somalia': 0.0,\n",
       " 'Namibia': 0.24,\n",
       " 'Uganda': 7.8,\n",
       " 'Afghanistan': 0.0,\n",
       " 'Jamaica': 3.03,\n",
       " 'Finland': 9.419999999999998,\n",
       " 'Iraq': 0.75,\n",
       " 'Malawi': 1.02,\n",
       " 'Bulgaria': 11.43,\n",
       " 'Nicaragua': 2.5,\n",
       " 'Central African Republic': 2.5199999999999996,\n",
       " 'Burundi': 8.159999999999998,\n",
       " 'Sweden': 7.47,\n",
       " 'Greece': 10.15,\n",
       " 'Kyrgyzstan': 4.279999999999999,\n",
       " 'Belgium': 11.61,\n",
       " 'Angola': 2.28,\n",
       " 'Burkina Faso': 3.99,\n",
       " 'Czech Republic': 13.009999999999998,\n",
       " 'United Arab Emirates': 4.43,\n",
       " 'Peru': 4.99,\n",
       " 'Trinidad and Tobago': 4.68,\n",
       " 'Guyana': 9.940000000000001,\n",
       " 'Bahrain': 4.89,\n",
       " 'Benin': 1.3800000000000001,\n",
       " 'Liberia': 5.61,\n",
       " 'Viet Nam': 0.16,\n",
       " 'Belarus': 7.9799999999999995,\n",
       " 'Swaziland': 6.68,\n",
       " 'France': 16.05,\n",
       " 'United States of America': 9.16,\n",
       " 'Cabo Verde': 2.79,\n",
       " 'Saudi Arabia': 0.15,\n",
       " 'Poland': 9.33,\n",
       " 'Senegal': 0.6100000000000001,\n",
       " 'Slovenia': 12.969999999999999,\n",
       " 'Hungary': 16.29,\n",
       " 'Iran (Islamic Republic of)': 0.0,\n",
       " 'Lesotho': 2.02,\n",
       " 'Gabon': 9.34,\n",
       " 'Comoros': 0.10999999999999999,\n",
       " 'Italy': 10.899999999999999,\n",
       " 'Denmark': 11.649999999999999,\n",
       " 'Canada': 9.0,\n",
       " 'Zambia': 3.37,\n",
       " 'Botswana': 4.63,\n",
       " 'Kuwait': 0.0,\n",
       " 'Russian Federation': 5.35,\n",
       " 'New Zealand': 11.52,\n",
       " 'Uruguay': 7.4399999999999995,\n",
       " 'Fiji': 1.9600000000000002,\n",
       " 'Israel': 2.0300000000000002,\n",
       " \"Cte d'Ivoire\": 2.2,\n",
       " 'Spain': 13.280000000000001,\n",
       " 'South Africa': 9.21,\n",
       " 'Morocco': 0.7,\n",
       " 'Venezuela (Bolivarian Republic of)': 7.87,\n",
       " 'Egypt': 0.42000000000000004,\n",
       " 'Ethiopia': 0.8600000000000001,\n",
       " 'Bhutan': 0.31,\n",
       " 'Chile': 8.649999999999999,\n",
       " 'Cambodia': 0.33,\n",
       " 'Mali': 0.6699999999999999,\n",
       " 'Nepal': 0.03,\n",
       " 'Kiribati': 0.48,\n",
       " 'Dominican Republic': 4.53,\n",
       " 'Vanuatu': 1.74,\n",
       " 'Solomon Islands': 0.5800000000000001,\n",
       " 'Libya': 0.0,\n",
       " 'Ukraine': 5.32,\n",
       " 'Eritrea': 0.29,\n",
       " 'Switzerland': 13.849999999999998,\n",
       " 'Mexico': 5.1,\n",
       " 'Portugal': 15.350000000000001,\n",
       " 'El Salvador': 1.77,\n",
       " 'Philippines': 3.78,\n",
       " 'Netherlands': 10.030000000000001,\n",
       " 'Mozambique': 0.39,\n",
       " 'Togo': 2.2199999999999998,\n",
       " \"Democratic People's Republic of Korea\": 3.6799999999999997,\n",
       " 'Cuba': 4.37,\n",
       " 'Singapore': 1.61,\n",
       " 'Lithuania': 0.0,\n",
       " 'Ecuador': 2.54,\n",
       " 'Malaysia': 0.68,\n",
       " 'Niger': 0.11,\n",
       " 'Democratic Republic of the Congo': 1.92,\n",
       " 'Australia': 12.09,\n",
       " 'Cyprus': 9.29,\n",
       " 'Antigua and Barbuda': 4.69,\n",
       " 'Pakistan': 0.02,\n",
       " 'Colombia': 6.960000000000001,\n",
       " 'Saint Lucia': 11.62,\n",
       " 'Brazil': 5.52,\n",
       " 'Algeria': 0.4,\n",
       " 'Malta': 7.13,\n",
       " \"Lao People's Democratic Republic\": 5.95,\n",
       " 'Turkey': 0.72,\n",
       " 'Ghana': 1.8599999999999999,\n",
       " 'Mauritania': 0.02,\n",
       " 'Cameroon': 6.359999999999999,\n",
       " 'Bahamas': 12.290000000000001,\n",
       " 'Djibouti': 0.87,\n",
       " 'Equatorial Guinea': 6.49,\n",
       " 'Oman': 1.03,\n",
       " 'Micronesia (Federated States of)': 0.0,\n",
       " 'Myanmar': 0.16,\n",
       " 'Qatar': 1.4500000000000002,\n",
       " 'Rwanda': 7.549999999999999,\n",
       " 'Mongolia': 2.59,\n",
       " 'Latvia': 7.039999999999999,\n",
       " 'Kenya': 2.82,\n",
       " 'Saint Kitts and Nevis': 4.65,\n",
       " 'Japan': 7.74,\n",
       " 'Iceland': 5.359999999999999,\n",
       " 'Papua New Guinea': 1.1099999999999999,\n",
       " 'Guinea-Bissau': 2.67,\n",
       " 'Belize': 0.0,\n",
       " 'United Republic of Tanzania': 5.9,\n",
       " 'Paraguay': 6.51,\n",
       " 'Thailand': 3.92,\n",
       " 'Tunisia': 0.95,\n",
       " 'United Kingdom of Great Britain and Northern Ireland': 9.99,\n",
       " 'Lebanon': 3.94,\n",
       " 'Luxembourg': 15.21,\n",
       " 'Albania': 1.73,\n",
       " 'Bangladesh': 0.0,\n",
       " 'Sudan': 0.15,\n",
       " 'Congo': 3.1500000000000004,\n",
       " 'Indonesia': 0.07,\n",
       " 'Sierra Leone': 4.380000000000001,\n",
       " 'Guinea': 0.21,\n",
       " 'Panama': 4.6000000000000005,\n",
       " 'Honduras': 2.15,\n",
       " 'Samoa': 2.63,\n",
       " 'Brunei Darussalam': 2.7800000000000002,\n",
       " 'Germany': 14.64,\n",
       " 'Yemen': 0.2,\n",
       " 'Chad': 0.30000000000000004,\n",
       " 'Sri Lanka': 0.14,\n",
       " 'Republic of Korea': 9.620000000000001,\n",
       " 'Sao Tome and Principe': 2.57,\n",
       " 'Slovakia': 12.700000000000001,\n",
       " 'Haiti': 5.81,\n",
       " 'Jordan': 0.19,\n",
       " 'Madagascar': 1.38,\n",
       " 'Austria': 13.9,\n",
       " 'Norway': 5.08,\n",
       " 'Argentina': 10.82,\n",
       " 'Romania': 8.41,\n",
       " 'China': 3.33,\n",
       " 'Nigeria': 6.74,\n",
       " 'India': 1.66,\n",
       " 'Ireland': 11.79,\n",
       " 'Gambia': 1.6300000000000001}"
      ]
     },
     "metadata": {},
     "execution_count": 90
    }
   ],
   "source": [
    "consoWorld(world_alchool,'1989')"
   ]
  },
  {
   "cell_type": "code",
   "execution_count": 107,
   "metadata": {},
   "outputs": [
    {
     "output_type": "stream",
     "name": "stdout",
     "text": [
      "le pays qui a la plus de consommation est: Hungary  avec une consommation: 16.29\n"
     ]
    }
   ],
   "source": [
    "# le pays qui consomme le plus d'alchool\n",
    "total1989=consoWorld(world_alchool,'1989')\n",
    "consomax=0\n",
    "pays=''\n",
    "for i in total1989:\n",
    "    if total1989[i]>consomax:\n",
    "        consomax=total1989[i]\n",
    "        pays=i\n",
    "print(\"le pays qui a la plus de consommation est:\",pays,\" avec une consommation:\",consomax)"
   ]
  },
  {
   "cell_type": "code",
   "execution_count": 108,
   "metadata": {},
   "outputs": [
    {
     "output_type": "execute_result",
     "data": {
      "text/plain": [
       "array([['1984', 'Europe', 'Portugal', 'Wine', '13.5']], dtype='<U75')"
      ]
     },
     "metadata": {},
     "execution_count": 108
    }
   ],
   "source": [
    "\n",
    "#le type d'lachool le pls consommé  \n",
    "consmax=np.amax(world_alchool[:,4].astype(float))\n",
    "world_alchool[world_alchool[:,4]==str(consmax)]"
   ]
  },
  {
   "cell_type": "code",
   "execution_count": null,
   "metadata": {},
   "outputs": [],
   "source": []
  }
 ]
}