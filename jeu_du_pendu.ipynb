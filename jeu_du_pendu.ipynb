{
 "metadata": {
  "language_info": {
   "codemirror_mode": {
    "name": "ipython",
    "version": 3
   },
   "file_extension": ".py",
   "mimetype": "text/x-python",
   "name": "python",
   "nbconvert_exporter": "python",
   "pygments_lexer": "ipython3",
   "version": "3.8.5"
  },
  "orig_nbformat": 2,
  "kernelspec": {
   "name": "python3",
   "display_name": "Python 3.8.5 32-bit",
   "metadata": {
    "interpreter": {
     "hash": "c5e56fbcdc31a633ac0299573016abf27dbdfacef16b1340a435c1336c93ab79"
    }
   }
  }
 },
 "nbformat": 4,
 "nbformat_minor": 2,
 "cells": [
  {
   "cell_type": "code",
   "execution_count": 4,
   "metadata": {},
   "outputs": [
    {
     "output_type": "stream",
     "name": "stdout",
     "text": [
      "###### il vous reste  5 essaie(s)\n",
      "###G## il vous reste  4 essaie(s)\n",
      "###G## il vous reste  3 essaie(s)\n",
      "###G## il vous reste  2 essaie(s)\n",
      "###G## il vous reste  1 essaie(s)\n",
      "B##G## il vous reste  0 essaie(s)\n",
      "Veuillez proposer un mot\n",
      "BRAVO, vous avez gagné\n"
     ]
    }
   ],
   "source": [
    "#Le jeu du pendu \n",
    "import random\n",
    "l_mots=['COUCOU','BONJOUR','BONSOIR','MANGER','BOUGER','FORMATION']\n",
    "mot_choisi=random.choice(l_mots)\n",
    "mot_affiché='#'*len(mot_choisi)\n",
    "cpt=0\n",
    "while(cpt<6):\n",
    "    lettre=input().upper()\n",
    "    for i in range(len(mot_choisi)):\n",
    "        if mot_choisi[i]==lettre:\n",
    "            mot_affiché=mot_affiché[:i]+lettre+mot_affiché[i+1:]\n",
    "    print(mot_affiché,\"il vous reste \",5-cpt,\"essaie(s)\")\n",
    "    cpt+=1\n",
    "print(\"Veuillez proposer un mot\")    \n",
    "mot_final=input(\"Veuillez proposer un mot\").upper()\n",
    "if mot_final==mot_choisi:\n",
    "    print(\"BRAVO, vous avez gagné\")\n",
    "else:\n",
    "    print(\"Désolée, mais vous avez perdu, le mot proposé était:\",mot_choisi)    "
   ]
  },
  {
   "cell_type": "code",
   "execution_count": null,
   "metadata": {},
   "outputs": [],
   "source": []
  }
 ]
}