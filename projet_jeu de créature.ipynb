{
 "metadata": {
  "language_info": {
   "codemirror_mode": {
    "name": "ipython",
    "version": 3
   },
   "file_extension": ".py",
   "mimetype": "text/x-python",
   "name": "python",
   "nbconvert_exporter": "python",
   "pygments_lexer": "ipython3",
   "version": "3.8.5"
  },
  "orig_nbformat": 2,
  "kernelspec": {
   "name": "python385jvsc74a57bd0c5e56fbcdc31a633ac0299573016abf27dbdfacef16b1340a435c1336c93ab79",
   "display_name": "Python 3.8.5 32-bit"
  },
  "metadata": {
   "interpreter": {
    "hash": "c5e56fbcdc31a633ac0299573016abf27dbdfacef16b1340a435c1336c93ab79"
   }
  }
 },
 "nbformat": 4,
 "nbformat_minor": 2,
 "cells": [
  {
   "cell_type": "code",
   "execution_count": 1,
   "metadata": {},
   "outputs": [],
   "source": [
    "class Case:\n",
    "    def __init__(self,x,y):\n",
    "        self.x=int(x)\n",
    "        self.y=int(y)\n",
    "    def adjacente(self,jeu) :\n",
    "        (x,y)=(jeu.listeDesCreatures[jeu.actif].position.x,jeu.listeDesCreatures[jeu.actif].position.y)\n",
    "        listeAdjacenteGlobale=[(x-1,y-1),(x,y-1),(x+1,y-1),(x+1,y),(x+1,y+1),(x,y+1),(x-1,y+1),(x-1,y)]\n",
    "        listeAdjacente=[]\n",
    "        for case in jeu.listeDesCases:\n",
    "            if (case.x,case.y)  in listeAdjacenteGlobale:\n",
    "                listeAdjacente.append(case)    \n",
    "        return listeAdjacente\n",
    "    \n",
    "    def __str__(self):\n",
    "        return \"(\"+str(self.x)+\",\"+str(self.y)+\")\""
   ]
  },
  {
   "cell_type": "code",
   "execution_count": 3,
   "metadata": {},
   "outputs": [],
   "source": [
    "import random\n",
    "class Créature:\n",
    "    def __init__(self,nom,position):\n",
    "        self.nom=nom\n",
    "        self.position=position\n",
    "    def choisirCible(self,jeu) :\n",
    "        listeCaseCreatures=[caZ.position for caZ in jeu.listeDesCreatures]\n",
    "        for case in self.position.adjacente(jeu):\n",
    "            if (case.x,case.y) in [(caseC.x,caseC.y) for caseC in listeCaseCreatures if caseC!= self.position]:\n",
    "                return case\n",
    "        return random.choice(self.position.adjacente(jeu))\n",
    "               \n",
    "    def __str__(self) :\n",
    "        return \"(\"+str(self.nom)+\",\"+str(self.position)+\")\"  "
   ]
  },
  {
   "cell_type": "code",
   "execution_count": 4,
   "metadata": {},
   "outputs": [],
   "source": [
    "class Jeu:\n",
    "    def __init__(self,listeDesCases,listeDesCreatures, actif):\n",
    "        self.listeDesCases=listeDesCases\n",
    "        self.listeDesCreatures=listeDesCreatures\n",
    "        self.actif=actif\n",
    "        self.tour=0\n",
    "    def estoccupee(self,case):\n",
    "        test=False\n",
    "        for créa in self.listeDesCreatures:\n",
    "             if créa.position.x==case.x and créa.position.y==case.y:\n",
    "                 test=True\n",
    "        return test\n",
    "    \"\"\"\n",
    "    Solution Rafik:\n",
    "    def estOccupee(self, case):\n",
    "        return any(b.position == case for b in self.listeCreatures) \"\"\"   \n",
    "    def deplacer(self,creature, case)  :\n",
    "        #print((case.x,case.y),[(caZ.position.x, caZ.position.y) for caZ in self.listeDesCreatures])\n",
    "        if (case.x,case.y) in [(caZ.position.x, caZ.position.y) for caZ in self.listeDesCreatures]:\n",
    "            self.actif=-2\n",
    "            print(\"bravo \"+creature.nom+\" vous êtes le vainqueur\" )\n",
    "            return \"bravo \"+creature.nom+\" vous êtes le vainqueur\" \n",
    "        else:     \n",
    "            (creature.position.x,creature.position.y)=(case.x,case.y)    \n",
    "            self.actif=0 if self.actif==len(self.listeDesCreatures)-1 else self.actif+1\n",
    "            self.tour+=1\n",
    "            print(\"c'est désormais le tour de l'autre:\")\n",
    "            return  \"c'est désormais le tour de l'autre:\"    \n",
    "        \n",
    "        \n"
   ]
  },
  {
   "source": [
    "TEST"
   ],
   "cell_type": "markdown",
   "metadata": {}
  },
  {
   "cell_type": "code",
   "execution_count": 5,
   "metadata": {},
   "outputs": [
    {
     "output_type": "stream",
     "name": "stdout",
     "text": [
      "(4,5) oui\n(Luca,(1,1))\n"
     ]
    },
    {
     "output_type": "execute_result",
     "data": {
      "text/plain": [
       "'print([(x-1,y),(x+1,y+1)])\\n\\nprint(jeu1.estoccupee(Case(2,1)))\\nfor i in listeCase:\\n    print(i)'"
      ]
     },
     "metadata": {},
     "execution_count": 5
    }
   ],
   "source": [
    "listeCase=[Case(x,y) for x in range(1,5) for y in range(1,6) ]\n",
    "\n",
    "print(listeCase[-1],'oui' if 4==listeCase[-1].x else \"non\")\n",
    "listeDesCréatures=[Créature(\"Luca\",Case(1,1)), Créature(\"Souad\",Case(3,3))]\n",
    "jeu1=Jeu(listeCase,listeDesCréatures,0)\n",
    "print(listeDesCréatures[0])\n",
    "(x,y)=(jeu1.listeDesCreatures[jeu1.actif].position.x,jeu1.listeDesCreatures[jeu1.actif].position.y)\n",
    "\"\"\"print([(x-1,y),(x+1,y+1)])\n",
    "\n",
    "print(jeu1.estoccupee(Case(2,1)))\n",
    "for i in listeCase:\n",
    "    print(i)\"\"\""
   ]
  },
  {
   "cell_type": "code",
   "execution_count": null,
   "metadata": {},
   "outputs": [],
   "source": []
  },
  {
   "source": [
    "LANCEMENT DU JEU\n"
   ],
   "cell_type": "markdown",
   "metadata": {}
  },
  {
   "cell_type": "code",
   "execution_count": 9,
   "metadata": {},
   "outputs": [
    {
     "output_type": "stream",
     "name": "stdout",
     "text": [
      "c'est désormais le tour de l'autre:\nc'est désormais le tour de l'autre:\nc'est désormais le tour de l'autre:\nc'est désormais le tour de l'autre:\nc'est désormais le tour de l'autre:\nc'est désormais le tour de l'autre:\nc'est désormais le tour de l'autre:\nbravo Souad vous êtes le vainqueur\n"
     ]
    }
   ],
   "source": [
    "listeCases=[Case(x,y) for x in range(1,5) for y in range(1,5)]\n",
    "listeCréatures=[Créature(\"Souad\",Case(1,1)), Créature(\"Luca\",Case(4,4))]\n",
    "jeu2=Jeu(listeCases,listeCréatures,1)\n",
    "while jeu2.actif !=-2:\n",
    "    jeu2.deplacer(jeu2.listeDesCreatures[jeu2.actif],jeu2.listeDesCreatures[jeu2.actif].choisirCible(jeu2))"
   ]
  },
  {
   "cell_type": "code",
   "execution_count": null,
   "metadata": {},
   "outputs": [],
   "source": []
  }
 ]
}