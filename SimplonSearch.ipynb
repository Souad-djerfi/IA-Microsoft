{
 "metadata": {
  "language_info": {
   "codemirror_mode": {
    "name": "ipython",
    "version": 3
   },
   "file_extension": ".py",
   "mimetype": "text/x-python",
   "name": "python",
   "nbconvert_exporter": "python",
   "pygments_lexer": "ipython3",
   "version": "3.8.5"
  },
  "orig_nbformat": 2,
  "kernelspec": {
   "name": "python385jvsc74a57bd0c5e56fbcdc31a633ac0299573016abf27dbdfacef16b1340a435c1336c93ab79",
   "display_name": "Python 3.8.5 32-bit"
  },
  "metadata": {
   "interpreter": {
    "hash": "c5e56fbcdc31a633ac0299573016abf27dbdfacef16b1340a435c1336c93ab79"
   }
  }
 },
 "nbformat": 4,
 "nbformat_minor": 2,
 "cells": [
  {
   "cell_type": "code",
   "execution_count": null,
   "metadata": {},
   "outputs": [],
   "source": [
    "Proposer une fonction almost(mot, s) qui trouve dans un texte s toute les \n",
    "occurrence d’un mot dont une lettre a pu éventuellement être enlevée.\n",
    "Exemple : si mot vaut « alphonse », une réponse acceptable vaut est \n",
    "« alponse »."
   ]
  },
  {
   "cell_type": "code",
   "execution_count": 2,
   "metadata": {},
   "outputs": [],
   "source": [
    "from re import*\n",
    "def almost(mot,s):\n",
    "    s=''.join(char for char in s if char.isalnum() or char==' ')\n",
    "    print(s)\n",
    "    match=[]\n",
    "    dif=0\n",
    "    liste=s.split()\n",
    "    print(liste)\n",
    "    for m in liste:\n",
    "        if m==mot:\n",
    "            match.append(m)\n",
    "        elif len(m)+1==len(mot) : \n",
    "            print(m,len(m))  \n",
    "            for i in range(0,\n",
    "            len(m)-1):\n",
    "                print(i)\n",
    "                if m[i].upper()!=mot[i].upper() and m[i:]==mot[i+1:]:\n",
    "                    match.append(m)\n",
    "                    break\n",
    "    return match       "
   ]
  },
  {
   "source": [
    "2. Proposez une fonction pluslarge(mot, s) qui trouve dans un texte s toutes les \n",
    "occurrences d’un mot dont une lettre a pu éventuellement être enlevée, ajouté \n",
    "ou remplacé par une autre"
   ],
   "cell_type": "markdown",
   "metadata": {}
  },
  {
   "cell_type": "code",
   "execution_count": 4,
   "metadata": {},
   "outputs": [],
   "source": [
    "def pluslarge (mot,s):\n",
    "    s=''.join(char for char in s if char.isalnum() or char==' ')\n",
    "    print(s)\n",
    "    match=[]\n",
    "    liste=s.split()\n",
    "    for m in liste:\n",
    "        if m==mot:\n",
    "            match.append(m)\n",
    "            \n",
    "        elif len(m)+1==len(mot):\n",
    "            for i in range(0,len(m)-1):\n",
    "                if m[i].upper()!=mot[i].upper() :\n",
    "                    if m[i:]==mot[i+1:]:\n",
    "                        match.append(m)\n",
    "                    break\n",
    "        elif  len(m)==len(mot):\n",
    "            for j in range(0,len(m)-1):\n",
    "                if m[j].upper()!=mot[j].upper():\n",
    "                    if m[j+1:].upper()==mot[j+1:].upper() :\n",
    "                        print(\"egal\",j,m,m[j+1:],mot[j+1:])\n",
    "                        match.append(m)\n",
    "                    break    \n",
    "        elif len(m)==len(mot)+1: \n",
    "            if m[:-1]==mot:\n",
    "                match.append(m)\n",
    "                continue\n",
    "\n",
    "            for k in range(0,len(m)-1):\n",
    "                print(m)\n",
    "                if m[k].upper()!=mot[k].upper():\n",
    "                    if m[k+1:].upper()==mot[k].upper():\n",
    "                        #print(k,m,m[k+1:],mot[k:])\n",
    "                        match.append(m)\n",
    "                    break\n",
    "    return match  "
   ]
  },
  {
   "cell_type": "code",
   "execution_count": 8,
   "metadata": {},
   "outputs": [],
   "source": [
    "#Solution Rafik\n",
    "def pluslarge(mot, s):\n",
    "    z = \" \"+sub(\"[,.]\", \"\", s)+ \" \"\n",
    "    found = findall(\"\\s\"+mot+\"[^\\s]?\\s\", z)\n",
    "    for i in range(len(mot)):\n",
    "        # Je cherche le mot avec une lettre remplacé\n",
    "        motif = \"\\s\"+mot[:i]+\"[^\"+mot[i]+\"]?\"\n",
    "        motif += mot[i+1:]+\"\\s\"\n",
    "        found += findall(motif, \" \"+z)\n",
    "        # Je cherche le mot avec une lettre en plus\n",
    "        motif = \"\\s\"+mot[:i]+\"[^\\s]\"+mot[i:]+\"\\s\"\n",
    "        found += findall(motif, \" \"+z)\n",
    "    return found\n",
    "\n",
    "\n",
    "    \n",
    "\n"
   ]
  },
  {
   "cell_type": "code",
   "execution_count": 5,
   "metadata": {},
   "outputs": [
    {
     "output_type": "execute_result",
     "data": {
      "text/plain": [
       "[' trois ', ' troisx ', ' rois ', ' tris ', ' trais ']"
      ]
     },
     "metadata": {},
     "execution_count": 5
    }
   ],
   "source": [
    "# test\n",
    "s=\"Les etrois tris lys trois gros les troisx rois trais troipp tiops tries rotis ttttts\"\n",
    "pluslarge('trois',s)"
   ]
  },
  {
   "source": [
    "Proposez une fonction score(p, s) qui prend en argument une phrase p \n",
    "et lui \n",
    "\n",
    "attribue un score en fonction de la présence des mots qu’elle contient dans s : \n",
    "\n",
    "cinq points par mot exact, un point par mot approché"
   ],
   "cell_type": "markdown",
   "metadata": {}
  },
  {
   "cell_type": "code",
   "execution_count": 3,
   "metadata": {},
   "outputs": [],
   "source": [
    "# jai pas fait appel a la fonction plusLarge car je voulais refaire avec les expression régulières\n",
    "def score(p,s):\n",
    "    score=0\n",
    "    s=s.replace(\",\",\"\")\n",
    "    s=s.replace(\".\",\"\")\n",
    "    p=p.replace(\",\",\"\")\n",
    "    p=p.replace(\".\",\"\")\n",
    "    motP=p.split()\n",
    "    motS=s.split()\n",
    "    print(motS)\n",
    "    print(' '.join(motS))\n",
    "    for mot in motP:\n",
    "        score+=5*len(findall(\" \"+mot+\" \",s))\n",
    "        print(\"mot exact\",findall(\" \"+mot+\" \",s))\n",
    "        # une lettre qui manque\n",
    "        motLettreManq=[m for m in motS if len(m)+1==len(mot)]\n",
    "        for i in range(len(mot)):\n",
    "            score+=len(findall(mot[:i]+mot[i+1:],' '.join(motLettreManq)))\n",
    "            print('une lettre qui manque',findall(mot[:i]+mot[i+1:],' '.join(motLettreManq)))\n",
    "        #une lettre en plus\n",
    "        motlettrePlus=[m for m in motS if len(m)==len(mot)+1]\n",
    "        print(\"lettre en plu\",motlettrePlus)\n",
    "        for i in range(len(mot)):\n",
    "            score+=len(findall(mot[:i]+\"[a-zA-Z]\"+mot[i:],' '.join( motlettrePlus))) \n",
    "            print('lettre en plus',findall(mot[:i]+\"[a-zA-Z]\"+mot[i:],' '.join( motlettrePlus)))    \n",
    "        #une lettre modifiée\n",
    "        motlettreModifie=[m for m in motS if len(m)==len(mot) and m!=mot]\n",
    "        print('Liste des mots modifiés',motlettreModifie)\n",
    "        for i in range(len(mot)):\n",
    "            print(\"AFFICHER LA LISTE des mots qui ont une lettre modifée\",' '.join(motlettreModifie))\n",
    "            score+=len(findall(mot[:i]+\"[^\"+mot[i]+\"]\"+mot[i+1:],' '.join(motlettreModifie)))       \n",
    "            print('lettre modifiée',findall(mot[:i]+\"[^\"+mot[i]+\"]\"+mot[i+1:],' '.join(motlettreModifie)))\n",
    "\n",
    "\n",
    "    return score"
   ]
  },
  {
   "cell_type": "code",
   "execution_count": 1,
   "metadata": {},
   "outputs": [],
   "source": [
    "#Solution Yanice\n",
    "def pluslarge(mot, s):\n",
    "    words = []\n",
    "    for i in range(len(mot)):\n",
    "        word = \"\"\n",
    "        for j in range(len(mot)):\n",
    "            word += mot[j] if j != i else mot[j]+\"?.{0,1}\"\n",
    "        words.append(word)\n",
    "    searchRegex = re.compile(r'\\b('+ r\"|\".join(words) + r'|\\w' + mot + r')\\b', flags=re.IGNORECASE)\n",
    "    return searchRegex.findall(s)"
   ]
  },
  {
   "source": [
    "Proposez une fonction score(p, s) qui prend en argument une phrase p et \n",
    "lui \n",
    "attribue un score en fonction de la présence des mots \n",
    "qu’elle contient dans s : \n",
    "cinq points par mot exact, un point par mot approché"
   ],
   "cell_type": "markdown",
   "metadata": {}
  },
  {
   "cell_type": "code",
   "execution_count": 7,
   "metadata": {},
   "outputs": [
    {
     "output_type": "stream",
     "name": "stdout",
     "text": [
      "21\n11\n"
     ]
    }
   ],
   "source": [
    "def score(p, s):\n",
    "    sc = 0\n",
    "    q = \" \"+sub(\"[,.]\",\"\", p)+\" \"\n",
    "    z = \" \" + sub(\"[,.]\",\"\", s)+\" \"\n",
    "    for x in p.split():\n",
    "        sc += len(pluslarge(x, s))\n",
    "        sc += 4*z.count(\" \"+x+\" \")\n",
    "    return sc\n",
    "p=\"Le petit bonhomme en mousse\"\n",
    "t = \"Ce superbe matelas en mousse naturelle\"\n",
    "print(score(\"les trois gros\", s))\n",
    "print(score(p, t))"
   ]
  },
  {
   "source": [
    "Modifiez les fonctions précédentes de façons à ce qu’elles donnent \n",
    "un bonus \n",
    "de 20 points si deux mots successifs dans la phrase \n",
    "initial sont également \n",
    "successif dans le texte parcouru (les mots exacts).\n",
    "Exemple : Si on cherche \n",
    "« Le petit bonhomme en mouse » dans « Ce superbe \n",
    "matelas en mousse naturelle »."
   ],
   "cell_type": "markdown",
   "metadata": {}
  },
  {
   "cell_type": "code",
   "execution_count": 16,
   "metadata": {},
   "outputs": [
    {
     "output_type": "stream",
     "name": "stdout",
     "text": [
      "42\n31\n"
     ]
    }
   ],
   "source": [
    "def score2(p, s):\n",
    "    sc = 0\n",
    "    q = \" \"+sub(\"[,.]\",\"\", p)+\" \"\n",
    "    z = \" \" + sub(\"[,.]\",\"\", s)\n",
    "    mot = p.split()\n",
    "    for x in mot:\n",
    "        for i in pluslarge(x, z):\n",
    "            sc += 5 if i in q else 1\n",
    "    for y in range(len(mot)-1):\n",
    "        if \" \" + mot[y] + \" \" + mot[y+1] + \" \" in z:\n",
    "            sc += 20 \n",
    "\n",
    "        \n",
    "            #sc += len(pluslarge(x, s))\n",
    "            #sc += 4*z.count(\" \"+x+\" \")\n",
    "    return sc\n",
    "p=\"Le petit bonhomme en mousse\"\n",
    "t = \"Ce superbe matelas en mousse naturelle\"\n",
    "print(score2(\"les trois gros\", s))\n",
    "print(score2(p, t))"
   ]
  },
  {
   "source": [
    "Vous pouvez utiliser la fonction nouvellement créé sur un ensemble de fichier txt et \n",
    "voir quel est le fichier qui correspond le plus à une phrase recherchée."
   ],
   "cell_type": "markdown",
   "metadata": {}
  },
  {
   "cell_type": "code",
   "execution_count": 17,
   "metadata": {},
   "outputs": [
    {
     "output_type": "stream",
     "name": "stdout",
     "text": [
      "Matplotlib.txt : 75\nPandas.txt : 71\nSeaborn.txt : 40\nNumpy.txt : 38\n"
     ]
    }
   ],
   "source": [
    "#Solution Rafik\n",
    "import os\n",
    "liste = os.listdir('Textes')\n",
    "results={}\n",
    "\n",
    "recherche = \"analyse et visualisation\"\n",
    "\n",
    "for file in liste:\n",
    "    filin = open(\"Textes/\"+file, \"r\", encoding=\"utf-8\")\n",
    "    filin = filin.read()\n",
    "    results[file] = score2(recherche, filin)\n",
    "    \n",
    "tuples = sorted(results.items(), key=lambda item: item[1], reverse=True)\n",
    "\n",
    "for i, j in tuples :\n",
    "    print(i + \" : \" + str(j))"
   ]
  },
  {
   "cell_type": "code",
   "execution_count": 19,
   "metadata": {},
   "outputs": [
    {
     "output_type": "stream",
     "name": "stdout",
     "text": [
      "{'Matplotlib.txt': 75, 'Numpy.txt': 38, 'Pandas.txt': 71, 'Seaborn.txt': 40}\n"
     ]
    }
   ],
   "source": [
    "#Solution yoan\n",
    "import os\n",
    "liste_des_textes = os.listdir(\"Textes\")\n",
    "liste_des_textes_ouverts = []\n",
    "dico_final = {}\n",
    "\n",
    "for text in liste_des_textes :\n",
    "    liste_des_textes_ouverts.append(open(\"Textes/\" + text, encoding = \"utf-8\").read()) \n",
    "    \n",
    "for i in range(len(liste_des_textes_ouverts)) :\n",
    "    dico_final[liste_des_textes[i]] = score2(\"analyse et visualisation\", liste_des_textes_ouverts[i])\n",
    "\n",
    "print(dico_final)"
   ]
  },
  {
   "cell_type": "code",
   "execution_count": null,
   "metadata": {},
   "outputs": [],
   "source": []
  }
 ]
}