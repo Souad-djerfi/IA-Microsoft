{
 "metadata": {
  "language_info": {
   "codemirror_mode": {
    "name": "ipython",
    "version": 3
   },
   "file_extension": ".py",
   "mimetype": "text/x-python",
   "name": "python",
   "nbconvert_exporter": "python",
   "pygments_lexer": "ipython3",
   "version": "3.8.5"
  },
  "orig_nbformat": 2,
  "kernelspec": {
   "name": "python385jvsc74a57bd0c5e56fbcdc31a633ac0299573016abf27dbdfacef16b1340a435c1336c93ab79",
   "display_name": "Python 3.8.5 32-bit"
  },
  "metadata": {
   "interpreter": {
    "hash": "c5e56fbcdc31a633ac0299573016abf27dbdfacef16b1340a435c1336c93ab79"
   }
  }
 },
 "nbformat": 4,
 "nbformat_minor": 2,
 "cells": [
  {
   "cell_type": "code",
   "execution_count": 2,
   "metadata": {},
   "outputs": [
    {
     "output_type": "execute_result",
     "data": {
      "text/plain": [
       "   Major_code                                  Major  \\\n",
       "0        1100                    GENERAL AGRICULTURE   \n",
       "1        1101  AGRICULTURE PRODUCTION AND MANAGEMENT   \n",
       "2        1102                 AGRICULTURAL ECONOMICS   \n",
       "3        1103                        ANIMAL SCIENCES   \n",
       "4        1104                           FOOD SCIENCE   \n",
       "\n",
       "                    Major_category   Total  Employed  \\\n",
       "0  Agriculture & Natural Resources  128148     90245   \n",
       "1  Agriculture & Natural Resources   95326     76865   \n",
       "2  Agriculture & Natural Resources   33955     26321   \n",
       "3  Agriculture & Natural Resources  103549     81177   \n",
       "4  Agriculture & Natural Resources   24280     17281   \n",
       "\n",
       "   Employed_full_time_year_round  Unemployed  Unemployment_rate  Median  \\\n",
       "0                          74078      2423.0           0.026147   50000   \n",
       "1                          64240      2266.0           0.028636   54000   \n",
       "2                          22810       821.0           0.030248   63000   \n",
       "3                          64937      3619.0           0.042679   46000   \n",
       "4                          12722       894.0           0.049188   62000   \n",
       "\n",
       "   P25th    P75th  \n",
       "0  34000  80000.0  \n",
       "1  36000  80000.0  \n",
       "2  40000  98000.0  \n",
       "3  30000  72000.0  \n",
       "4  38500  90000.0  "
      ],
      "text/html": "<div>\n<style scoped>\n    .dataframe tbody tr th:only-of-type {\n        vertical-align: middle;\n    }\n\n    .dataframe tbody tr th {\n        vertical-align: top;\n    }\n\n    .dataframe thead th {\n        text-align: right;\n    }\n</style>\n<table border=\"1\" class=\"dataframe\">\n  <thead>\n    <tr style=\"text-align: right;\">\n      <th></th>\n      <th>Major_code</th>\n      <th>Major</th>\n      <th>Major_category</th>\n      <th>Total</th>\n      <th>Employed</th>\n      <th>Employed_full_time_year_round</th>\n      <th>Unemployed</th>\n      <th>Unemployment_rate</th>\n      <th>Median</th>\n      <th>P25th</th>\n      <th>P75th</th>\n    </tr>\n  </thead>\n  <tbody>\n    <tr>\n      <th>0</th>\n      <td>1100</td>\n      <td>GENERAL AGRICULTURE</td>\n      <td>Agriculture &amp; Natural Resources</td>\n      <td>128148</td>\n      <td>90245</td>\n      <td>74078</td>\n      <td>2423.0</td>\n      <td>0.026147</td>\n      <td>50000</td>\n      <td>34000</td>\n      <td>80000.0</td>\n    </tr>\n    <tr>\n      <th>1</th>\n      <td>1101</td>\n      <td>AGRICULTURE PRODUCTION AND MANAGEMENT</td>\n      <td>Agriculture &amp; Natural Resources</td>\n      <td>95326</td>\n      <td>76865</td>\n      <td>64240</td>\n      <td>2266.0</td>\n      <td>0.028636</td>\n      <td>54000</td>\n      <td>36000</td>\n      <td>80000.0</td>\n    </tr>\n    <tr>\n      <th>2</th>\n      <td>1102</td>\n      <td>AGRICULTURAL ECONOMICS</td>\n      <td>Agriculture &amp; Natural Resources</td>\n      <td>33955</td>\n      <td>26321</td>\n      <td>22810</td>\n      <td>821.0</td>\n      <td>0.030248</td>\n      <td>63000</td>\n      <td>40000</td>\n      <td>98000.0</td>\n    </tr>\n    <tr>\n      <th>3</th>\n      <td>1103</td>\n      <td>ANIMAL SCIENCES</td>\n      <td>Agriculture &amp; Natural Resources</td>\n      <td>103549</td>\n      <td>81177</td>\n      <td>64937</td>\n      <td>3619.0</td>\n      <td>0.042679</td>\n      <td>46000</td>\n      <td>30000</td>\n      <td>72000.0</td>\n    </tr>\n    <tr>\n      <th>4</th>\n      <td>1104</td>\n      <td>FOOD SCIENCE</td>\n      <td>Agriculture &amp; Natural Resources</td>\n      <td>24280</td>\n      <td>17281</td>\n      <td>12722</td>\n      <td>894.0</td>\n      <td>0.049188</td>\n      <td>62000</td>\n      <td>38500</td>\n      <td>90000.0</td>\n    </tr>\n  </tbody>\n</table>\n</div>"
     },
     "metadata": {},
     "execution_count": 2
    }
   ],
   "source": [
    "import pandas as pd\n",
    "all_ages=pd.read_csv(\"all-ages.csv\")\n",
    "all_ages.head(5)\n"
   ]
  },
  {
   "cell_type": "code",
   "execution_count": 4,
   "metadata": {},
   "outputs": [
    {
     "output_type": "execute_result",
     "data": {
      "text/plain": [
       "   Rank  Major_code                                      Major Major_category  \\\n",
       "0     1        2419                      PETROLEUM ENGINEERING    Engineering   \n",
       "1     2        2416             MINING AND MINERAL ENGINEERING    Engineering   \n",
       "2     3        2415                  METALLURGICAL ENGINEERING    Engineering   \n",
       "3     4        2417  NAVAL ARCHITECTURE AND MARINE ENGINEERING    Engineering   \n",
       "4     5        2405                       CHEMICAL ENGINEERING    Engineering   \n",
       "\n",
       "   Total  Sample_size    Men  Women  ShareWomen  Employed  ...  Part_time  \\\n",
       "0   2339           36   2057    282    0.120564      1976  ...        270   \n",
       "1    756            7    679     77    0.101852       640  ...        170   \n",
       "2    856            3    725    131    0.153037       648  ...        133   \n",
       "3   1258           16   1123    135    0.107313       758  ...        150   \n",
       "4  32260          289  21239  11021    0.341631     25694  ...       5180   \n",
       "\n",
       "   Full_time_year_round  Unemployed  Unemployment_rate  Median  P25th   P75th  \\\n",
       "0                  1207          37           0.018381  110000  95000  125000   \n",
       "1                   388          85           0.117241   75000  55000   90000   \n",
       "2                   340          16           0.024096   73000  50000  105000   \n",
       "3                   692          40           0.050125   70000  43000   80000   \n",
       "4                 16697        1672           0.061098   65000  50000   75000   \n",
       "\n",
       "   College_jobs  Non_college_jobs  Low_wage_jobs  \n",
       "0          1534               364            193  \n",
       "1           350               257             50  \n",
       "2           456               176              0  \n",
       "3           529               102              0  \n",
       "4         18314              4440            972  \n",
       "\n",
       "[5 rows x 21 columns]"
      ],
      "text/html": "<div>\n<style scoped>\n    .dataframe tbody tr th:only-of-type {\n        vertical-align: middle;\n    }\n\n    .dataframe tbody tr th {\n        vertical-align: top;\n    }\n\n    .dataframe thead th {\n        text-align: right;\n    }\n</style>\n<table border=\"1\" class=\"dataframe\">\n  <thead>\n    <tr style=\"text-align: right;\">\n      <th></th>\n      <th>Rank</th>\n      <th>Major_code</th>\n      <th>Major</th>\n      <th>Major_category</th>\n      <th>Total</th>\n      <th>Sample_size</th>\n      <th>Men</th>\n      <th>Women</th>\n      <th>ShareWomen</th>\n      <th>Employed</th>\n      <th>...</th>\n      <th>Part_time</th>\n      <th>Full_time_year_round</th>\n      <th>Unemployed</th>\n      <th>Unemployment_rate</th>\n      <th>Median</th>\n      <th>P25th</th>\n      <th>P75th</th>\n      <th>College_jobs</th>\n      <th>Non_college_jobs</th>\n      <th>Low_wage_jobs</th>\n    </tr>\n  </thead>\n  <tbody>\n    <tr>\n      <th>0</th>\n      <td>1</td>\n      <td>2419</td>\n      <td>PETROLEUM ENGINEERING</td>\n      <td>Engineering</td>\n      <td>2339</td>\n      <td>36</td>\n      <td>2057</td>\n      <td>282</td>\n      <td>0.120564</td>\n      <td>1976</td>\n      <td>...</td>\n      <td>270</td>\n      <td>1207</td>\n      <td>37</td>\n      <td>0.018381</td>\n      <td>110000</td>\n      <td>95000</td>\n      <td>125000</td>\n      <td>1534</td>\n      <td>364</td>\n      <td>193</td>\n    </tr>\n    <tr>\n      <th>1</th>\n      <td>2</td>\n      <td>2416</td>\n      <td>MINING AND MINERAL ENGINEERING</td>\n      <td>Engineering</td>\n      <td>756</td>\n      <td>7</td>\n      <td>679</td>\n      <td>77</td>\n      <td>0.101852</td>\n      <td>640</td>\n      <td>...</td>\n      <td>170</td>\n      <td>388</td>\n      <td>85</td>\n      <td>0.117241</td>\n      <td>75000</td>\n      <td>55000</td>\n      <td>90000</td>\n      <td>350</td>\n      <td>257</td>\n      <td>50</td>\n    </tr>\n    <tr>\n      <th>2</th>\n      <td>3</td>\n      <td>2415</td>\n      <td>METALLURGICAL ENGINEERING</td>\n      <td>Engineering</td>\n      <td>856</td>\n      <td>3</td>\n      <td>725</td>\n      <td>131</td>\n      <td>0.153037</td>\n      <td>648</td>\n      <td>...</td>\n      <td>133</td>\n      <td>340</td>\n      <td>16</td>\n      <td>0.024096</td>\n      <td>73000</td>\n      <td>50000</td>\n      <td>105000</td>\n      <td>456</td>\n      <td>176</td>\n      <td>0</td>\n    </tr>\n    <tr>\n      <th>3</th>\n      <td>4</td>\n      <td>2417</td>\n      <td>NAVAL ARCHITECTURE AND MARINE ENGINEERING</td>\n      <td>Engineering</td>\n      <td>1258</td>\n      <td>16</td>\n      <td>1123</td>\n      <td>135</td>\n      <td>0.107313</td>\n      <td>758</td>\n      <td>...</td>\n      <td>150</td>\n      <td>692</td>\n      <td>40</td>\n      <td>0.050125</td>\n      <td>70000</td>\n      <td>43000</td>\n      <td>80000</td>\n      <td>529</td>\n      <td>102</td>\n      <td>0</td>\n    </tr>\n    <tr>\n      <th>4</th>\n      <td>5</td>\n      <td>2405</td>\n      <td>CHEMICAL ENGINEERING</td>\n      <td>Engineering</td>\n      <td>32260</td>\n      <td>289</td>\n      <td>21239</td>\n      <td>11021</td>\n      <td>0.341631</td>\n      <td>25694</td>\n      <td>...</td>\n      <td>5180</td>\n      <td>16697</td>\n      <td>1672</td>\n      <td>0.061098</td>\n      <td>65000</td>\n      <td>50000</td>\n      <td>75000</td>\n      <td>18314</td>\n      <td>4440</td>\n      <td>972</td>\n    </tr>\n  </tbody>\n</table>\n<p>5 rows × 21 columns</p>\n</div>"
     },
     "metadata": {},
     "execution_count": 4
    }
   ],
   "source": [
    "recent_grads=pd.read_csv(\"recent-grads.csv\")\n",
    "recent_grads.head(5)"
   ]
  },
  {
   "cell_type": "code",
   "execution_count": 5,
   "metadata": {},
   "outputs": [
    {
     "output_type": "stream",
     "name": "stdout",
     "text": [
      "['Agriculture & Natural Resources' 'Biology & Life Science' 'Engineering'\n 'Humanities & Liberal Arts' 'Communications & Journalism'\n 'Computers & Mathematics' 'Industrial Arts & Consumer Services'\n 'Education' 'Law & Public Policy' 'Interdisciplinary' 'Health'\n 'Social Science' 'Physical Sciences' ' Physical Sciences'\n 'Psychology & Social Work' '15726' 'Arts' 'Business']\n"
     ]
    }
   ],
   "source": [
    "all_ages_MC_unique=all_ages['Major_category'].unique()\n",
    "print(all_ages_MC_unique)"
   ]
  },
  {
   "cell_type": "code",
   "execution_count": 6,
   "metadata": {},
   "outputs": [],
   "source": [
    "recent_grads_MC_unique=recent_grads['Major_category'].unique()"
   ]
  },
  {
   "cell_type": "code",
   "execution_count": null,
   "metadata": {},
   "outputs": [],
   "source": []
  },
  {
   "cell_type": "code",
   "execution_count": 8,
   "metadata": {},
   "outputs": [
    {
     "output_type": "stream",
     "name": "stdout",
     "text": [
      "{'Agriculture & Natural Resources': 10, 'Biology & Life Science': 14, 'Engineering': 29, 'Humanities & Liberal Arts': 15, 'Communications & Journalism': 4, 'Computers & Mathematics': 11, 'Industrial Arts & Consumer Services': 6, 'Education': 16, 'Law & Public Policy': 5, 'Interdisciplinary': 1, 'Health': 12, 'Social Science': 9, 'Physical Sciences': 9, ' Physical Sciences': 1, 'Psychology & Social Work': 9, '15726': 1, 'Arts': 8, 'Business': 13}\n"
     ]
    }
   ],
   "source": [
    "#Nombre de lignes par catégorie de Major\n",
    "occurence_all_ages_MC_unique={}\n",
    "for i in all_ages_MC_unique:\n",
    "    occurence_all_ages_MC_unique[i]=all_ages[all_ages[\"Major_category\"]==i].shape[0]\n",
    "print(occurence_all_ages_MC_unique)    \n"
   ]
  },
  {
   "cell_type": "code",
   "execution_count": 10,
   "metadata": {},
   "outputs": [
    {
     "output_type": "stream",
     "name": "stdout",
     "text": [
      "{'Agriculture & Natural Resources': 632437, 'Biology & Life Science': 1338186, 'Engineering': 3576013, 'Humanities & Liberal Arts': 3738335, 'Communications & Journalism': 1803822, 'Computers & Mathematics': 1781378, 'Industrial Arts & Consumer Services': 1018072, 'Education': 4700118, 'Law & Public Policy': 902926, 'Interdisciplinary': 45199, 'Health': 2950859, 'Social Science': 2654125, 'Physical Sciences': 1013152, ' Physical Sciences': 12166, 'Psychology & Social Work': 1987278, '15726': 12607, 'Arts': 1805865, 'Business': 9858741}\n"
     ]
    }
   ],
   "source": [
    "#Nombre d'étudiants par catégorie\n",
    "nbreEtudiantCateg={}\n",
    "for i in all_ages_MC_unique:\n",
    "    age_cat=all_ages[all_ages['Major_category']==i]\n",
    "    nbreEtudiantCateg[i]=age_cat['Total'].sum()\n",
    "print(nbreEtudiantCateg)"
   ]
  },
  {
   "cell_type": "code",
   "execution_count": 11,
   "metadata": {},
   "outputs": [],
   "source": [
    "#passanger_survavil=titanic_survival.pivot_table(index=\"pclass\",values=\"survived\")\n",
    "#print(passanger_survavil)\n",
    "def nbreEtudiantCategorie (dataset):\n",
    "    return dataset.pivot_table(index=\"Major_category\",values=\"Total\")\n"
   ]
  },
  {
   "cell_type": "code",
   "execution_count": 17,
   "metadata": {},
   "outputs": [
    {
     "output_type": "stream",
     "name": "stdout",
     "text": [
      "                                             Total\nMajor_category                                    \nAgriculture & Natural Resources        7998.100000\nArts                                  44641.250000\nBiology & Life Science                32418.714286\nBusiness                             100182.769231\nCommunications & Journalism           98150.250000\nComputers & Mathematics               27182.545455\nEducation                             34945.562500\nEngineering                           18537.344828\nHealth                                38602.500000\nHumanities & Liberal Arts             47564.533333\nIndustrial Arts & Consumer Services   32827.428571\nInterdisciplinary                     12296.000000\nLaw & Public Policy                   35821.400000\nPhysical Sciences                     18547.900000\nPsychology & Social Work              53445.222222\nSocial Science                        58885.111111\n"
     ]
    }
   ],
   "source": [
    "aa_cat_counts=nbreEtudiantCategorie(all_ages)\n",
    "rg_cat_counts=nbreEtudiantCategorie(recent_grads)\n",
    "#print(aa_cat_counts)\n",
    "print(rg_cat_counts)"
   ]
  },
  {
   "cell_type": "code",
   "execution_count": 20,
   "metadata": {},
   "outputs": [
    {
     "output_type": "stream",
     "name": "stdout",
     "text": [
      "9.852546076122913\n"
     ]
    }
   ],
   "source": [
    "#Taux de jobs à faible salaire\n",
    "low_wage_proportion=recent_grads['Low_wage_jobs'].sum()*100/recent_grads['Total'].sum()\n",
    "print(low_wage_proportion)\n"
   ]
  },
  {
   "cell_type": "code",
   "execution_count": 36,
   "metadata": {},
   "outputs": [
    {
     "output_type": "stream",
     "name": "stdout",
     "text": [
      "43\n"
     ]
    }
   ],
   "source": [
    "#Comparer de datasets\n",
    "\n",
    "rg_lower_count=0\n",
    "for i in all_ages['Major'].unique():\n",
    "    if recent_grads[recent_grads['Major']==i]['Unemployment_rate'].min()<= all_ages[all_ages['Major']==i]['Unemployment_rate'].min():\n",
    "        rg_lower_count+=1\n",
    "    \n",
    "    \n",
    "print(rg_lower_count)   \n"
   ]
  },
  {
   "cell_type": "code",
   "execution_count": null,
   "metadata": {},
   "outputs": [],
   "source": []
  }
 ]
}