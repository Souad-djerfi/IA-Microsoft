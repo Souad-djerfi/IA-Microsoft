{
 "metadata": {
  "language_info": {
   "codemirror_mode": {
    "name": "ipython",
    "version": 3
   },
   "file_extension": ".py",
   "mimetype": "text/x-python",
   "name": "python",
   "nbconvert_exporter": "python",
   "pygments_lexer": "ipython3",
   "version": "3.8.5"
  },
  "orig_nbformat": 2,
  "kernelspec": {
   "name": "python3",
   "display_name": "Python 3.8.5 32-bit",
   "metadata": {
    "interpreter": {
     "hash": "c5e56fbcdc31a633ac0299573016abf27dbdfacef16b1340a435c1336c93ab79"
    }
   }
  }
 },
 "nbformat": 4,
 "nbformat_minor": 2,
 "cells": [
  {
   "cell_type": "code",
   "execution_count": 6,
   "metadata": {},
   "outputs": [
    {
     "output_type": "stream",
     "name": "stdout",
     "text": [
      "Je loue\nTu loues\nIl/Elle loue\nNous louons\nVous louez\nIls/Elles louent\n"
     ]
    }
   ],
   "source": [
    "#-----------------------Exercice premier pas avec python--------------------\n",
    "#1. Le présent de l’indicatif\n",
    "verbe=input()\n",
    "print(\"Je\",verbe[0:-1])\n",
    "print(\"Tu\",verbe[0:-1]+'s')\n",
    "print(\"Il/Elle\",verbe[0:-1])\n",
    "print(\"Nous\",verbe[0:-2]+'ons')\n",
    "print('Vous',verbe[0:-2]+'ez')\n",
    "print('Ils/Elles',verbe[0:-2]+'ent')"
   ]
  },
  {
   "cell_type": "code",
   "execution_count": 12,
   "metadata": {},
   "outputs": [
    {
     "output_type": "stream",
     "name": "stdout",
     "text": [
      "2\n"
     ]
    }
   ],
   "source": [
    "#2.Distance entre deux mots\n",
    "mot1=input()\n",
    "mot2=input()\n",
    "if len(mot1)!=len(mot2):\n",
    "    print(\"ERREUR\")\n",
    "else:\n",
    "    distance=0\n",
    "    for i in range(len(mot1)):\n",
    "        if mot1[i]!=mot2[i]:\n",
    "            distance+=1\n",
    "    print(distance)    \n",
    "\n"
   ]
  },
  {
   "cell_type": "code",
   "execution_count": 14,
   "metadata": {},
   "outputs": [
    {
     "output_type": "stream",
     "name": "stdout",
     "text": [
      "ruoknob\n"
     ]
    }
   ],
   "source": [
    "#3.Afficher un mot à l'envers:\n",
    "mot= input()\n",
    "motInverse=''\n",
    "j=len(mot)-1\n",
    "for i in range(len(mot)):\n",
    "    motInverse+=mot[j]\n",
    "    j-=1\n",
    "print(motInverse)"
   ]
  },
  {
   "cell_type": "code",
   "execution_count": 2,
   "metadata": {},
   "outputs": [
    {
     "output_type": "stream",
     "name": "stdout",
     "text": [
      "pas de solution\n"
     ]
    }
   ],
   "source": [
    "#4.Calculer les solutions, si elles existent, du polynôme ax² + bx + c = 0\n",
    "a=input('Veuillez entre a')\n",
    "b=input('Veuillez entrer b')\n",
    "c=input('Veuillez entre c')\n",
    "\n",
    "delta=float(b)*float(b)-4*float(a)*float(c)\n",
    "if delta<0:\n",
    "    print(\"pas de solution\")\n",
    "elif delta==0:\n",
    "    print(\" l'équation a une seule solution x=\",-b/(2*a))   \n",
    "else:\n",
    "    print(\"L'équation a deux soltions: x1=\",(-b-sqrt(delta))/2*a,\"x2=\",(-b+sqrt(delta))/2*a)\n"
   ]
  },
  {
   "cell_type": "code",
   "execution_count": 10,
   "metadata": {},
   "outputs": [
    {
     "output_type": "stream",
     "name": "stdout",
     "text": [
      "15\n"
     ]
    }
   ],
   "source": [
    "                                                                                                                                                                         #5. Additionner les n premiers entiers \n",
    "nbre=input()\n",
    "nbre=int(nbre)\n",
    "somme=nbre\n",
    "for i in range(nbre):\n",
    "    nbre-=1\n",
    "    somme+=nbre                                                                                                                                                 \n",
    "print(somme)                                                                                                                                                                                                                                                                                                                                                                                                                                                                                                                                                                                                                                                                                                                                                                                                                                                                                                                                                                                                                                                                                                                                                                                                                                                                                                                                                                                                                                                                                                                                                                                                                                                                                                                                                                                                                                                                                                                                                                                                                                                                                                                                                                                                                                                                                                                                                                                                                                                                                                                                                                                                                                                                                                                                                                                                                                                                                                                                                                      "
   ]
  },
  {
   "cell_type": "code",
   "execution_count": 21,
   "metadata": {},
   "outputs": [
    {
     "output_type": "stream",
     "name": "stdout",
     "text": [
      "XX01234567890123456789012345678901234567890123456789\n0.50000000000000000000000000000000000000000000000000\n0.25000000000000000000000000000000000000000000000000\n0.12500000000000000000000000000000000000000000000000\n0.06250000000000000000000000000000000000000000000000\n0.03125000000000000000000000000000000000000000000000\n0.01562500000000000000000000000000000000000000000000\n0.00781250000000000000000000000000000000000000000000\n0.00390625000000000000000000000000000000000000000000\n0.00195312500000000000000000000000000000000000000000\n0.00097656250000000000000000000000000000000000000000\n0.00048828125000000000000000000000000000000000000000\n0.00024414062500000000000000000000000000000000000000\n0.00012207031250000000000000000000000000000000000000\n0.00006103515625000000000000000000000000000000000000\n0.00003051757812500000000000000000000000000000000000\n0.00001525878906250000000000000000000000000000000000\n0.00000762939453125000000000000000000000000000000000\n0.00000381469726562500000000000000000000000000000000\n0.00000190734863281250000000000000000000000000000000\n0.00000095367431640625000000000000000000000000000000\n0.00000047683715820312500000000000000000000000000000\n0.00000023841857910156250000000000000000000000000000\n0.00000011920928955078125000000000000000000000000000\n0.00000005960464477539062500000000000000000000000000\n0.00000002980232238769531250000000000000000000000000\n0.00000001490116119384765625000000000000000000000000\n0.00000000745058059692382812500000000000000000000000\n0.00000000372529029846191406250000000000000000000000\n0.00000000186264514923095703125000000000000000000000\n0.00000000093132257461547851562500000000000000000000\n0.00000000046566128730773925781250000000000000000000\n0.00000000023283064365386962890625000000000000000000\n0.00000000011641532182693481445312500000000000000000\n0.00000000005820766091346740722656250000000000000000\n0.00000000002910383045673370361328125000000000000000\n0.00000000001455191522836685180664062500000000000000\n0.00000000000727595761418342590332031250000000000000\n0.00000000000363797880709171295166015625000000000000\n0.00000000000181898940354585647583007812500000000000\n0.00000000000090949470177292823791503906250000000000\n0.00000000000045474735088646411895751953125000000000\n0.00000000000022737367544323205947875976562500000000\n0.00000000000011368683772161602973937988281250000000\n0.00000000000005684341886080801486968994140625000000\n0.00000000000002842170943040400743484497070312500000\n0.00000000000001421085471520200371742248535156250000\n0.00000000000000710542735760100185871124267578125000\n0.00000000000000355271367880050092935562133789062500\n0.00000000000000177635683940025046467781066894531250\n0.00000000000000088817841970012523233890533447265625\n"
     ]
    }
   ],
   "source": [
    "#6. L’infiniment petit\n",
    "print(\"XX\"+\"0123456789\"*5)\n",
    "nbre=1\n",
    "for i in range(50):\n",
    "    print(\"%.50f\"%(nbre/2))\n",
    "    nbre=nbre/2"
   ]
  },
  {
   "cell_type": "code",
   "execution_count": 37,
   "metadata": {},
   "outputs": [
    {
     "output_type": "stream",
     "name": "stdout",
     "text": [
      "0\n"
     ]
    }
   ],
   "source": [
    "# 7. Compter les nombres à deux chiffres ayant le chiffre 7 \n",
    "nbre=input()\n",
    "nbre7=0\n",
    "for i in range(int(nbre)+1):\n",
    "    if (i-7)%10==0 or (i>=70 and (i%70)<=9) :\n",
    "        nbre7+=1\n",
    "print(nbre7)"
   ]
  },
  {
   "cell_type": "code",
   "execution_count": 1,
   "metadata": {},
   "outputs": [
    {
     "output_type": "stream",
     "name": "stdout",
     "text": [
      "4\n"
     ]
    }
   ],
   "source": [
    "#8. Compter les consonnes dans un mot \n",
    "mot=input().upper()\n",
    "consonnes=0\n",
    "for lettre in mot :\n",
    "    if lettre not in ('A','E','I','O','U','Y'):\n",
    "        consonnes+=1\n",
    "print(consonnes)        "
   ]
  },
  {
   "cell_type": "code",
   "execution_count": 41,
   "metadata": {},
   "outputs": [
    {
     "output_type": "stream",
     "name": "stdout",
     "text": [
      "65 97\n"
     ]
    }
   ],
   "source": [
    "print(ord('A'),ord('a'))"
   ]
  },
  {
   "cell_type": "code",
   "execution_count": 45,
   "metadata": {},
   "outputs": [
    {
     "output_type": "stream",
     "name": "stdout",
     "text": [
      "frxfrx\n",
      "coucou\n"
     ]
    }
   ],
   "source": [
    "#9. Encoder et décrypter un nom \n",
    "nom1=input()\n",
    "nomEcd=''\n",
    "for lettre in nom1:\n",
    "  nomEcd+=chr(ord(lettre)+3)\n",
    "print(nomEcd)\n",
    "nom2=input()\n",
    "nomDcd=''\n",
    "for lettre in nom2:\n",
    "    nomDcd+=chr(ord(lettre)-3)\n",
    "print(nomDcd)    \n",
    "\n"
   ]
  },
  {
   "cell_type": "code",
   "execution_count": 63,
   "metadata": {},
   "outputs": [
    {
     "output_type": "stream",
     "name": "stdout",
     "text": [
      "balise ['html', 'head', 'title', '/title', '/head', 'body', '/body', '/html']\n"
     ]
    }
   ],
   "source": [
    "#10.. Afficher les balises d’une page HTML \n",
    "page=\"<html> <head> <title> Mon Titre </title> </head> <body> Texte sur la page </body> </html>\"\n",
    "balise=[]\n",
    "cpt=0\n",
    "while(cpt<len(page)):\n",
    "    if page[cpt]==\"<\":\n",
    "        balise.append(page[cpt+1:(page[cpt:].find('>'))+cpt])\n",
    "        cpt+=page[cpt:].find('>')\n",
    "    cpt+=1\n",
    "print('balise',balise)\n"
   ]
  },
  {
   "cell_type": "code",
   "execution_count": 15,
   "metadata": {},
   "outputs": [
    {
     "output_type": "stream",
     "name": "stdout",
     "text": [
      "LUN MAR MER JEU VEN SAM DIM\n"
     ]
    },
    {
     "output_type": "error",
     "ename": "AttributeError",
     "evalue": "'int' object has no attribute 'format'",
     "traceback": [
      "\u001b[1;31m---------------------------------------------------------------------------\u001b[0m",
      "\u001b[1;31mAttributeError\u001b[0m                            Traceback (most recent call last)",
      "\u001b[1;32m<ipython-input-15-09b2d7ca34fb>\u001b[0m in \u001b[0;36m<module>\u001b[1;34m\u001b[0m\n\u001b[0;32m      4\u001b[0m \u001b[0mprint\u001b[0m\u001b[1;33m(\u001b[0m\u001b[1;34m\"LUN MAR MER JEU VEN SAM DIM\"\u001b[0m\u001b[1;33m)\u001b[0m\u001b[1;33m\u001b[0m\u001b[1;33m\u001b[0m\u001b[0m\n\u001b[0;32m      5\u001b[0m \u001b[0mj\u001b[0m\u001b[1;33m=\u001b[0m\u001b[0mint\u001b[0m\u001b[1;33m(\u001b[0m\u001b[0mpremier_jr\u001b[0m\u001b[1;33m)\u001b[0m\u001b[1;33m\u001b[0m\u001b[1;33m\u001b[0m\u001b[0m\n\u001b[1;32m----> 6\u001b[1;33m \u001b[0mprint\u001b[0m\u001b[1;33m(\u001b[0m\u001b[1;34m\"{0:<4}\"\u001b[0m\u001b[1;33m*\u001b[0m\u001b[1;33m(\u001b[0m\u001b[0mj\u001b[0m\u001b[1;33m-\u001b[0m\u001b[1;36m1\u001b[0m\u001b[1;33m)\u001b[0m\u001b[1;33m.\u001b[0m\u001b[0mformat\u001b[0m\u001b[1;33m(\u001b[0m\u001b[1;34m'1'\u001b[0m\u001b[1;33m)\u001b[0m\u001b[1;33m,\u001b[0m\u001b[0mend\u001b[0m\u001b[1;33m=\u001b[0m\u001b[1;34m''\u001b[0m\u001b[1;33m)\u001b[0m\u001b[1;33m\u001b[0m\u001b[1;33m\u001b[0m\u001b[0m\n\u001b[0m\u001b[0;32m      7\u001b[0m \u001b[1;32mfor\u001b[0m \u001b[0mcpt\u001b[0m \u001b[1;32min\u001b[0m \u001b[0mrange\u001b[0m\u001b[1;33m(\u001b[0m\u001b[1;36m2\u001b[0m\u001b[1;33m,\u001b[0m\u001b[0mint\u001b[0m\u001b[1;33m(\u001b[0m\u001b[0mnbre_jour\u001b[0m\u001b[1;33m)\u001b[0m\u001b[1;33m+\u001b[0m\u001b[1;36m1\u001b[0m\u001b[1;33m)\u001b[0m\u001b[1;33m:\u001b[0m\u001b[1;33m\u001b[0m\u001b[1;33m\u001b[0m\u001b[0m\n\u001b[0;32m      8\u001b[0m     \u001b[0mj\u001b[0m\u001b[1;33m+=\u001b[0m\u001b[1;36m1\u001b[0m\u001b[1;33m\u001b[0m\u001b[1;33m\u001b[0m\u001b[0m\n",
      "\u001b[1;31mAttributeError\u001b[0m: 'int' object has no attribute 'format'"
     ]
    }
   ],
   "source": [
    "#11.Afficher le calendrier \n",
    "nbre_jour=input()\n",
    "premier_jr=input()\n",
    "print(\"LUN MAR MER JEU VEN SAM DIM\")\n",
    "j=int(premier_jr)\n",
    "print(\"{0:<4*(j-1)}\".format('1'),end='')\n",
    "for cpt in range(2,int(nbre_jour)+1):\n",
    "    j+=1\n",
    "    if j==1:\n",
    "        print(\"{0:<4}\".format(cpt),end='')\n",
    "        \n",
    "    elif j==7:\n",
    "        j=0\n",
    "        print(\"{0:<4}\".format(cpt))\n",
    "    else:    \n",
    "        print(\"{0:<4}\".format(cpt),end='') \n",
    "       \n",
    "\n",
    "\n",
    "        \n",
    "     "
   ]
  },
  {
   "cell_type": "code",
   "execution_count": null,
   "metadata": {},
   "outputs": [],
   "source": []
  }
 ]
}